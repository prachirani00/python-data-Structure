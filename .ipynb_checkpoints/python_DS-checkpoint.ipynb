{
 "cells": [
  {
   "cell_type": "markdown",
   "metadata": {
    "id": "cCeZHbY7Oguy"
   },
   "source": [
    "ans 1"
   ]
  },
  {
   "cell_type": "code",
   "execution_count": null,
   "metadata": {
    "colab": {
     "base_uri": "https://localhost:8080/",
     "height": 35
    },
    "executionInfo": {
     "elapsed": 731,
     "status": "ok",
     "timestamp": 1715608413047,
     "user": {
      "displayName": "Priya Verma",
      "userId": "06987125035340060556"
     },
     "user_tz": -330
    },
    "id": "IjID1lVQOkh0",
    "outputId": "2707a8e1-93a8-49f0-8c5b-ccd321fbe3f0"
   },
   "outputs": [
    {
     "data": {
      "application/vnd.google.colaboratory.intrinsic+json": {
       "type": "string"
      },
      "text/plain": [
       "'ihcarp'"
      ]
     },
     "execution_count": 2,
     "metadata": {},
     "output_type": "execute_result"
    }
   ],
   "source": [
    "s='prachi'\n",
    "s[::-1]"
   ]
  },
  {
   "cell_type": "markdown",
   "metadata": {
    "id": "7tWsD-15O8J8"
   },
   "source": [
    "ans 2"
   ]
  },
  {
   "cell_type": "code",
   "execution_count": null,
   "metadata": {
    "colab": {
     "base_uri": "https://localhost:8080/"
    },
    "executionInfo": {
     "elapsed": 828,
     "status": "ok",
     "timestamp": 1715609693659,
     "user": {
      "displayName": "Priya Verma",
      "userId": "06987125035340060556"
     },
     "user_tz": -330
    },
    "id": "EvLWtEsiO9RE",
    "outputId": "18f9bde4-612e-4386-833f-3095b3c60c41"
   },
   "outputs": [
    {
     "name": "stdout",
     "output_type": "stream",
     "text": [
      "1\n",
      "2\n"
     ]
    }
   ],
   "source": [
    "s='pwskialls'\n",
    "count=0\n",
    "for i in s:\n",
    "   if i=='a' or i=='e'or i=='i' or i=='o' or i=='u' or i=='A' or i=='E' or i=='I' or i=='O' or i=='U':\n",
    "    count=count+1\n",
    "    print(count)"
   ]
  },
  {
   "cell_type": "markdown",
   "metadata": {
    "id": "ayi6w8urVF1X"
   },
   "source": [
    "ans 3\n"
   ]
  },
  {
   "cell_type": "code",
   "execution_count": null,
   "metadata": {
    "colab": {
     "base_uri": "https://localhost:8080/"
    },
    "executionInfo": {
     "elapsed": 13,
     "status": "ok",
     "timestamp": 1715609150732,
     "user": {
      "displayName": "Priya Verma",
      "userId": "06987125035340060556"
     },
     "user_tz": -330
    },
    "id": "DBlm8dUBPJK6",
    "outputId": "45dfa388-27c1-4e2a-e86e-16daeb5b0371"
   },
   "outputs": [
    {
     "name": "stdout",
     "output_type": "stream",
     "text": [
      "laal\n",
      "yes\n"
     ]
    }
   ],
   "source": [
    "s='laal'\n",
    "revstr=''\n",
    "for i in s:\n",
    "  revstr=i+revstr\n",
    "print(revstr)\n",
    "if s==revstr:\n",
    "  print('yes')\n",
    "else:\n",
    "  print('no')"
   ]
  },
  {
   "cell_type": "markdown",
   "metadata": {
    "id": "ZS-ukym-VIsK"
   },
   "source": [
    "ans 4"
   ]
  },
  {
   "cell_type": "code",
   "execution_count": null,
   "metadata": {
    "colab": {
     "base_uri": "https://localhost:8080/"
    },
    "executionInfo": {
     "elapsed": 12777,
     "status": "ok",
     "timestamp": 1715610211274,
     "user": {
      "displayName": "Priya Verma",
      "userId": "06987125035340060556"
     },
     "user_tz": -330
    },
    "id": "_fSbhRSmVJjc",
    "outputId": "8d158c08-506b-4bbc-8765-788a7a0da817"
   },
   "outputs": [
    {
     "name": "stdout",
     "output_type": "stream",
     "text": [
      "abcd\n",
      "bdac\n",
      "yes\n"
     ]
    }
   ],
   "source": [
    "s1=input()\n",
    "s2=input()\n",
    "s1=sorted(s1)\n",
    "s2=sorted(s2)\n",
    "if s1==s2:\n",
    "  print('yes')\n",
    "else:\n",
    "  print('no')"
   ]
  },
  {
   "cell_type": "markdown",
   "metadata": {
    "id": "bULwZiqwWGUB"
   },
   "source": [
    "ans 5\n"
   ]
  },
  {
   "cell_type": "code",
   "execution_count": 1,
   "metadata": {
    "colab": {
     "base_uri": "https://localhost:8080/"
    },
    "executionInfo": {
     "elapsed": 16,
     "status": "ok",
     "timestamp": 1717002923919,
     "user": {
      "displayName": "Priya Verma",
      "userId": "06987125035340060556"
     },
     "user_tz": -330
    },
    "id": "_9DMLriHVRlj",
    "outputId": "2d3f38f7-46e7-4b0c-cea8-34425d924afc"
   },
   "outputs": [
    {
     "name": "stdout",
     "output_type": "stream",
     "text": [
      "1\n"
     ]
    }
   ],
   "source": [
    "s='me','too','hii'\n",
    "s1='too'\n",
    "count = s.count(s1)\n",
    "print(count)\n",
    "\n",
    "\n"
   ]
  },
  {
   "cell_type": "code",
   "execution_count": null,
   "metadata": {
    "id": "wJBwbOiKWOgG"
   },
   "outputs": [],
   "source": []
  },
  {
   "cell_type": "markdown",
   "metadata": {
    "id": "bXJZURmIWPCg"
   },
   "source": [
    "6"
   ]
  },
  {
   "cell_type": "code",
   "execution_count": 3,
   "metadata": {
    "colab": {
     "base_uri": "https://localhost:8080/"
    },
    "executionInfo": {
     "elapsed": 414,
     "status": "ok",
     "timestamp": 1717003032043,
     "user": {
      "displayName": "Priya Verma",
      "userId": "06987125035340060556"
     },
     "user_tz": -330
    },
    "id": "LBcJO_g0WP9t",
    "outputId": "7ae50d8d-38ce-4a3b-c378-5c9cf290e63e"
   },
   "outputs": [
    {
     "name": "stdout",
     "output_type": "stream",
     "text": [
      "a3b5c2\n",
      "hello\n"
     ]
    }
   ],
   "source": [
    "def string_compression(s):\n",
    "  compressed = \"\"\n",
    "  count = 1\n",
    "  for i in range(len(s)-1):\n",
    "    if s[i] == s[i+1]:\n",
    "      count += 1\n",
    "    else:\n",
    "      compressed += s[i] + str(count)\n",
    "      count = 1\n",
    "  compressed += s[-1] + str(count)\n",
    "  return compressed if len(compressed) < len(s) else s\n",
    "\n",
    "print(string_compression(\"aaabbbbbcc\"))\n",
    "print(string_compression(\"hello\"))"
   ]
  },
  {
   "cell_type": "code",
   "execution_count": null,
   "metadata": {
    "id": "ZHgyqovIWg4W"
   },
   "outputs": [],
   "source": []
  },
  {
   "cell_type": "markdown",
   "metadata": {
    "id": "kycPH4PrWyxs"
   },
   "source": [
    "7"
   ]
  },
  {
   "cell_type": "code",
   "execution_count": 4,
   "metadata": {
    "colab": {
     "base_uri": "https://localhost:8080/"
    },
    "executionInfo": {
     "elapsed": 525,
     "status": "ok",
     "timestamp": 1717003063694,
     "user": {
      "displayName": "Priya Verma",
      "userId": "06987125035340060556"
     },
     "user_tz": -330
    },
    "id": "Osnw8cy1W0hh",
    "outputId": "a5a65a11-a9a6-4dc9-a999-d07561e583b5"
   },
   "outputs": [
    {
     "name": "stdout",
     "output_type": "stream",
     "text": [
      "False\n",
      "True\n"
     ]
    }
   ],
   "source": [
    "def has_unique_chars(s):\n",
    "  return len(s) == len(set(s))\n",
    "\n",
    "print(has_unique_chars(\"hello\"))\n",
    "print(has_unique_chars(\"world\"))"
   ]
  },
  {
   "cell_type": "markdown",
   "metadata": {
    "id": "I6OZLjIAW6xd"
   },
   "source": [
    "8"
   ]
  },
  {
   "cell_type": "code",
   "execution_count": 5,
   "metadata": {
    "colab": {
     "base_uri": "https://localhost:8080/"
    },
    "executionInfo": {
     "elapsed": 673,
     "status": "ok",
     "timestamp": 1717003095832,
     "user": {
      "displayName": "Priya Verma",
      "userId": "06987125035340060556"
     },
     "user_tz": -330
    },
    "id": "xNR5CfZmW7ng",
    "outputId": "66964fbb-f2ea-4168-f80f-03efd66ee9ae"
   },
   "outputs": [
    {
     "name": "stdout",
     "output_type": "stream",
     "text": [
      "HELLO WORLD\n",
      "hello world\n"
     ]
    }
   ],
   "source": [
    "def to_upper_or_lower(s, case=\"upper\"):\n",
    "  if case == \"upper\":\n",
    "    return s.upper()\n",
    "  elif case == \"lower\":\n",
    "    return s.lower()\n",
    "  else:\n",
    "    raise ValueError(\"Invalid case argument\")\n",
    "\n",
    "print(to_upper_or_lower(\"Hello World\", \"upper\"))\n",
    "print(to_upper_or_lower(\"hello world\", \"lower\"))"
   ]
  },
  {
   "cell_type": "markdown",
   "metadata": {
    "id": "hrBBHg_sXBeN"
   },
   "source": [
    "9\n"
   ]
  },
  {
   "cell_type": "code",
   "execution_count": 6,
   "metadata": {
    "colab": {
     "base_uri": "https://localhost:8080/"
    },
    "executionInfo": {
     "elapsed": 3,
     "status": "ok",
     "timestamp": 1717003122355,
     "user": {
      "displayName": "Priya Verma",
      "userId": "06987125035340060556"
     },
     "user_tz": -330
    },
    "id": "c3ZgHcUPXAks",
    "outputId": "1341767e-16cd-4c9c-8327-9885a43af672"
   },
   "outputs": [
    {
     "name": "stdout",
     "output_type": "stream",
     "text": [
      "2\n",
      "4\n"
     ]
    }
   ],
   "source": [
    "def count_words(s):\n",
    "  return len(s.split())\n",
    "\n",
    "print(count_words(\"Hello World\"))\n",
    "print(count_words(\"This is a test\"))"
   ]
  },
  {
   "cell_type": "markdown",
   "metadata": {
    "id": "kw1MIxfGXMN2"
   },
   "source": [
    "10"
   ]
  },
  {
   "cell_type": "code",
   "execution_count": 7,
   "metadata": {
    "colab": {
     "base_uri": "https://localhost:8080/"
    },
    "executionInfo": {
     "elapsed": 3,
     "status": "ok",
     "timestamp": 1717003159735,
     "user": {
      "displayName": "Priya Verma",
      "userId": "06987125035340060556"
     },
     "user_tz": -330
    },
    "id": "SUatuFNkXNKz",
    "outputId": "245d8d82-b78d-42bb-fb5f-d3b02e3b5023"
   },
   "outputs": [
    {
     "name": "stdout",
     "output_type": "stream",
     "text": [
      "helloworld\n"
     ]
    }
   ],
   "source": [
    "def concatenate_strings(s1, s2):\n",
    "  return \"\".join([s1, s2])\n",
    "\n",
    "print(concatenate_strings(\"hello\", \"world\"))"
   ]
  },
  {
   "cell_type": "markdown",
   "metadata": {
    "id": "_Y_loLLpXmEk"
   },
   "source": [
    "11"
   ]
  },
  {
   "cell_type": "code",
   "execution_count": 8,
   "metadata": {
    "colab": {
     "base_uri": "https://localhost:8080/"
    },
    "executionInfo": {
     "elapsed": 4,
     "status": "ok",
     "timestamp": 1717003356590,
     "user": {
      "displayName": "Priya Verma",
      "userId": "06987125035340060556"
     },
     "user_tz": -330
    },
    "id": "BQG7r_btXpmD",
    "outputId": "0d4fb823-b7c4-4a8b-dc97-e998c47883d6"
   },
   "outputs": [
    {
     "name": "stdout",
     "output_type": "stream",
     "text": [
      "[1, 3, 4]\n"
     ]
    }
   ],
   "source": [
    "def remove_all_occurrences(lst, elem):\n",
    "  return [value for value in lst if value != elem]\n",
    "\n",
    "print(remove_all_occurrences([1, 2, 3, 2, 4, 2], 2))"
   ]
  },
  {
   "cell_type": "markdown",
   "metadata": {
    "id": "ncHsy1UeYDwT"
   },
   "source": [
    "12"
   ]
  },
  {
   "cell_type": "code",
   "execution_count": 9,
   "metadata": {
    "colab": {
     "base_uri": "https://localhost:8080/"
    },
    "executionInfo": {
     "elapsed": 3,
     "status": "ok",
     "timestamp": 1717003391901,
     "user": {
      "displayName": "Priya Verma",
      "userId": "06987125035340060556"
     },
     "user_tz": -330
    },
    "id": "2j_aKit4YEjE",
    "outputId": "a26f34dd-7c99-4387-f01a-8d34702de862"
   },
   "outputs": [
    {
     "name": "stdout",
     "output_type": "stream",
     "text": [
      "4\n",
      "5\n"
     ]
    }
   ],
   "source": [
    "def second_largest(lst):\n",
    "  if len(lst) < 2:\n",
    "    raise ValueError(\"List must have at least two elements\")\n",
    "  max1 = max(lst[0], lst[1])\n",
    "  max2 = min(lst[0], lst[1])\n",
    "  for num in lst[2:]:\n",
    "    if num > max1:\n",
    "      max2 = max1\n",
    "      max1 = num\n",
    "    elif num > max2 and num!= max1:\n",
    "      max2 = num\n",
    "  return max2\n",
    "\n",
    "print(second_largest([1, 2, 3, 4, 5]))\n",
    "print(second_largest([5, 5, 5, 5]))"
   ]
  },
  {
   "cell_type": "markdown",
   "metadata": {
    "id": "FWslYfruYKuP"
   },
   "source": [
    "13"
   ]
  },
  {
   "cell_type": "code",
   "execution_count": 10,
   "metadata": {
    "colab": {
     "base_uri": "https://localhost:8080/"
    },
    "executionInfo": {
     "elapsed": 3,
     "status": "ok",
     "timestamp": 1717003416899,
     "user": {
      "displayName": "Priya Verma",
      "userId": "06987125035340060556"
     },
     "user_tz": -330
    },
    "id": "4L7259b0YLRG",
    "outputId": "8c2d477d-0a63-4dc1-c998-2508d73e3b17"
   },
   "outputs": [
    {
     "name": "stdout",
     "output_type": "stream",
     "text": [
      "{1: 1, 2: 2, 3: 3, 4: 4}\n"
     ]
    }
   ],
   "source": [
    "def count_occurrences(lst):\n",
    "  return {elem: lst.count(elem) for elem in set(lst)}\n",
    "\n",
    "print(count_occurrences([1, 2, 2, 3, 3, 3, 4, 4, 4, 4]))"
   ]
  },
  {
   "cell_type": "markdown",
   "metadata": {
    "id": "QGuxSOPnYQ2a"
   },
   "source": [
    "14"
   ]
  },
  {
   "cell_type": "code",
   "execution_count": 11,
   "metadata": {
    "colab": {
     "base_uri": "https://localhost:8080/"
    },
    "executionInfo": {
     "elapsed": 3,
     "status": "ok",
     "timestamp": 1717003438501,
     "user": {
      "displayName": "Priya Verma",
      "userId": "06987125035340060556"
     },
     "user_tz": -330
    },
    "id": "CQbhHBvnYRud",
    "outputId": "c7c47b12-8cfb-45a7-c8bf-c82a91b55ee1"
   },
   "outputs": [
    {
     "name": "stdout",
     "output_type": "stream",
     "text": [
      "[5, 4, 3, 2, 1]\n"
     ]
    }
   ],
   "source": [
    "def reverse_list_in_place(lst):\n",
    "  for i in range(len(lst) // 2):\n",
    "    lst[i], lst[-i-1] = lst[-i-1], lst[i]\n",
    "\n",
    "lst = [1, 2, 3, 4, 5]\n",
    "reverse_list_in_place(lst)\n",
    "print(lst)"
   ]
  },
  {
   "cell_type": "code",
   "execution_count": null,
   "metadata": {
    "id": "JFL8g9GKYUJS"
   },
   "outputs": [],
   "source": []
  },
  {
   "cell_type": "markdown",
   "metadata": {
    "id": "RWWWLC9eYXeo"
   },
   "source": [
    "15"
   ]
  },
  {
   "cell_type": "code",
   "execution_count": 12,
   "metadata": {
    "colab": {
     "base_uri": "https://localhost:8080/"
    },
    "executionInfo": {
     "elapsed": 4,
     "status": "ok",
     "timestamp": 1717003470322,
     "user": {
      "displayName": "Priya Verma",
      "userId": "06987125035340060556"
     },
     "user_tz": -330
    },
    "id": "zmZJuZ34YYss",
    "outputId": "7a616a22-a812-437f-9977-8ec62f2c7276"
   },
   "outputs": [
    {
     "name": "stdout",
     "output_type": "stream",
     "text": [
      "[1, 2, 3, 4]\n"
     ]
    }
   ],
   "source": [
    "def remove_duplicates(lst):\n",
    "  seen = set()\n",
    "  result = []\n",
    "  for elem in lst:\n",
    "    if elem not in seen:\n",
    "      seen.add(elem)\n",
    "      result.append(elem)\n",
    "  return result\n",
    "\n",
    "print(remove_duplicates([1, 2, 2, 3, 3, 3, 4, 4, 4, 4]))"
   ]
  },
  {
   "cell_type": "markdown",
   "metadata": {
    "id": "Fu0l4MtjYeWN"
   },
   "source": [
    "16"
   ]
  },
  {
   "cell_type": "code",
   "execution_count": 13,
   "metadata": {
    "colab": {
     "base_uri": "https://localhost:8080/"
    },
    "executionInfo": {
     "elapsed": 3,
     "status": "ok",
     "timestamp": 1717003715560,
     "user": {
      "displayName": "Priya Verma",
      "userId": "06987125035340060556"
     },
     "user_tz": -330
    },
    "id": "jC_IQ3nXYfU4",
    "outputId": "3303fb13-db20-4ca6-8f74-7086ad3bd619"
   },
   "outputs": [
    {
     "name": "stdout",
     "output_type": "stream",
     "text": [
      "True\n",
      "True\n",
      "False\n"
     ]
    }
   ],
   "source": [
    "def is_sorted(lst):\n",
    "    return lst == sorted(lst) or lst == sorted(lst, reverse=True)\n",
    "\n",
    "print(is_sorted([1, 2, 3, 4, 5]))\n",
    "print(is_sorted([5, 4, 3, 2, 1]))\n",
    "print(is_sorted([1, 3, 2, 4, 5]))"
   ]
  },
  {
   "cell_type": "markdown",
   "metadata": {
    "id": "88NLUU_AZdX_"
   },
   "source": [
    "17\n"
   ]
  },
  {
   "cell_type": "code",
   "execution_count": 14,
   "metadata": {
    "colab": {
     "base_uri": "https://localhost:8080/"
    },
    "executionInfo": {
     "elapsed": 523,
     "status": "ok",
     "timestamp": 1717003756935,
     "user": {
      "displayName": "Priya Verma",
      "userId": "06987125035340060556"
     },
     "user_tz": -330
    },
    "id": "bul7TEn2Zebx",
    "outputId": "748d727b-f51e-4aca-eb67-c9c9086be5ad"
   },
   "outputs": [
    {
     "name": "stdout",
     "output_type": "stream",
     "text": [
      "[1, 2, 3, 4, 5, 6]\n"
     ]
    }
   ],
   "source": [
    "def merge_sorted_lists(lst1, lst2):\n",
    "    return sorted(lst1 + lst2)\n",
    "\n",
    "print(merge_sorted_lists([1, 3, 5], [2, 4, 6]))"
   ]
  },
  {
   "cell_type": "markdown",
   "metadata": {
    "id": "s1q9xqvyZlro"
   },
   "source": [
    "18"
   ]
  },
  {
   "cell_type": "code",
   "execution_count": 15,
   "metadata": {
    "colab": {
     "base_uri": "https://localhost:8080/"
    },
    "executionInfo": {
     "elapsed": 3,
     "status": "ok",
     "timestamp": 1717003783490,
     "user": {
      "displayName": "Priya Verma",
      "userId": "06987125035340060556"
     },
     "user_tz": -330
    },
    "id": "-rmVqsFbZmUt",
    "outputId": "612fb47b-e8cf-4118-bc15-d2d7dd843e06"
   },
   "outputs": [
    {
     "name": "stdout",
     "output_type": "stream",
     "text": [
      "[3, 4, 5]\n"
     ]
    }
   ],
   "source": [
    "def intersection(lst1, lst2):\n",
    "    return list(set(lst1) & set(lst2))\n",
    "\n",
    "print(intersection([1, 2, 3, 4, 5], [3, 4, 5, 6, 7]))"
   ]
  },
  {
   "cell_type": "code",
   "execution_count": null,
   "metadata": {
    "id": "zsjHQXj3Zodq"
   },
   "outputs": [],
   "source": []
  },
  {
   "cell_type": "markdown",
   "metadata": {
    "id": "OCqY2FsNZpwB"
   },
   "source": [
    "19"
   ]
  },
  {
   "cell_type": "code",
   "execution_count": 16,
   "metadata": {
    "colab": {
     "base_uri": "https://localhost:8080/"
    },
    "executionInfo": {
     "elapsed": 3,
     "status": "ok",
     "timestamp": 1717003831477,
     "user": {
      "displayName": "Priya Verma",
      "userId": "06987125035340060556"
     },
     "user_tz": -330
    },
    "id": "gZlRJCTvZtLB",
    "outputId": "37a77272-e009-413c-eb3a-6b85c78ab50e"
   },
   "outputs": [
    {
     "name": "stdout",
     "output_type": "stream",
     "text": [
      "[1, 2, 3, 4, 5, 6, 7]\n"
     ]
    }
   ],
   "source": [
    "def union(lst1, lst2):\n",
    "    return list(set(lst1) | set(lst2))\n",
    "\n",
    "print(union([1, 2, 3, 4, 5], [3, 4, 5, 6, 7]))"
   ]
  },
  {
   "cell_type": "markdown",
   "metadata": {
    "id": "pvxdXcrcZ15i"
   },
   "source": [
    "20"
   ]
  },
  {
   "cell_type": "code",
   "execution_count": 17,
   "metadata": {
    "colab": {
     "base_uri": "https://localhost:8080/"
    },
    "executionInfo": {
     "elapsed": 3,
     "status": "ok",
     "timestamp": 1717003853594,
     "user": {
      "displayName": "Priya Verma",
      "userId": "06987125035340060556"
     },
     "user_tz": -330
    },
    "id": "kf4QYQcjZ2ea",
    "outputId": "d2bfb189-efbe-4058-eb04-cdbaa37bd0df"
   },
   "outputs": [
    {
     "name": "stdout",
     "output_type": "stream",
     "text": [
      "[5, 4, 2, 1, 3]\n"
     ]
    }
   ],
   "source": [
    "import random\n",
    "\n",
    "def shuffle_list(lst):\n",
    "    for i in range(len(lst)):\n",
    "        j = random.randint(0, len(lst) - 1)\n",
    "        lst[i], lst[j] = lst[j], lst[i]\n",
    "    return lst\n",
    "\n",
    "print(shuffle_list([1, 2, 3, 4, 5]))"
   ]
  },
  {
   "cell_type": "markdown",
   "metadata": {
    "id": "mTxxm3NUaCQ7"
   },
   "source": [
    "21"
   ]
  },
  {
   "cell_type": "code",
   "execution_count": 18,
   "metadata": {
    "colab": {
     "base_uri": "https://localhost:8080/"
    },
    "executionInfo": {
     "elapsed": 494,
     "status": "ok",
     "timestamp": 1717003906226,
     "user": {
      "displayName": "Priya Verma",
      "userId": "06987125035340060556"
     },
     "user_tz": -330
    },
    "id": "r0TCYfMgaDHY",
    "outputId": "d77ba423-d4cd-4b2e-f5b9-fdc175101c4f"
   },
   "outputs": [
    {
     "name": "stdout",
     "output_type": "stream",
     "text": [
      "True\n",
      "False\n"
     ]
    }
   ],
   "source": [
    "def have_common_elements(tup1, tup2):\n",
    "    return len(intersection(list(tup1), list(tup2))) > 0\n",
    "\n",
    "print(have_common_elements((1, 2, 3), (3, 4, 5)))\n",
    "print(have_common_elements((1, 2, 3), (4, 5, 6)))"
   ]
  },
  {
   "cell_type": "markdown",
   "metadata": {
    "id": "NXAdjIomaJaL"
   },
   "source": [
    "22"
   ]
  },
  {
   "cell_type": "code",
   "execution_count": 20,
   "metadata": {
    "colab": {
     "base_uri": "https://localhost:8080/"
    },
    "executionInfo": {
     "elapsed": 12810,
     "status": "ok",
     "timestamp": 1717003981088,
     "user": {
      "displayName": "Priya Verma",
      "userId": "06987125035340060556"
     },
     "user_tz": -330
    },
    "id": "8Ro__LCHaMWz",
    "outputId": "354b66be-1e23-4cad-b261-15263d320e02"
   },
   "outputs": [
    {
     "name": "stdout",
     "output_type": "stream",
     "text": [
      "Enter the first set separated by space: 1 1 2 3\n",
      "Enter the second set separated by space: 2 3 4 5\n",
      "Intersection of sets: {2, 3}\n"
     ]
    }
   ],
   "source": [
    "def intersection_of_sets():\n",
    "    set1 = set(map(int, input(\"Enter the first set separated by space: \").split()))\n",
    "    set2 = set(map(int, input(\"Enter the second set separated by space: \").split()))\n",
    "    print(\"Intersection of sets:\", set1 & set2)\n",
    "\n",
    "intersection_of_sets()"
   ]
  },
  {
   "cell_type": "markdown",
   "metadata": {
    "id": "1CgIh9Pkafgc"
   },
   "source": [
    "23"
   ]
  },
  {
   "cell_type": "code",
   "execution_count": 21,
   "metadata": {
    "colab": {
     "base_uri": "https://localhost:8080/"
    },
    "executionInfo": {
     "elapsed": 4,
     "status": "ok",
     "timestamp": 1717004024603,
     "user": {
      "displayName": "Priya Verma",
      "userId": "06987125035340060556"
     },
     "user_tz": -330
    },
    "id": "LT1OPa68agmz",
    "outputId": "6d4db36b-8c37-4175-88ed-5ff510c3c10e"
   },
   "outputs": [
    {
     "name": "stdout",
     "output_type": "stream",
     "text": [
      "(1, 2, 3, 4, 5, 6)\n"
     ]
    }
   ],
   "source": [
    "def concatenate_tuples(tup1, tup2):\n",
    "    return tup1 + tup2\n",
    "\n",
    "print(concatenate_tuples((1, 2, 3), (4, 5, 6)))"
   ]
  },
  {
   "cell_type": "markdown",
   "metadata": {
    "id": "PpBqe9VmbBvE"
   },
   "source": [
    "24\n"
   ]
  },
  {
   "cell_type": "code",
   "execution_count": 22,
   "metadata": {
    "colab": {
     "base_uri": "https://localhost:8080/"
    },
    "executionInfo": {
     "elapsed": 5,
     "status": "ok",
     "timestamp": 1717004169704,
     "user": {
      "displayName": "Priya Verma",
      "userId": "06987125035340060556"
     },
     "user_tz": -330
    },
    "id": "C8bDlXEqbCbV",
    "outputId": "f079445b-6624-451c-c79b-93d6bcba8344"
   },
   "outputs": [
    {
     "name": "stdout",
     "output_type": "stream",
     "text": [
      "Elements present in the first set but not in the second set: {'cherry', 'apple'}\n"
     ]
    }
   ],
   "source": [
    "def find_elements_in_first_but_not_second(set1, set2):\n",
    "  return set1 - set2\n",
    "\n",
    "set1 = {'apple', 'banana', 'cherry'}\n",
    "set2 = {'banana', 'orange', 'grape'}\n",
    "elements_in_first_but_not_second = find_elements_in_first_but_not_second(set1, set2)\n",
    "print(\"Elements present in the first set but not in the second set:\", elements_in_first_but_not_second)\n",
    "\n"
   ]
  },
  {
   "cell_type": "markdown",
   "metadata": {
    "id": "KX04rq33bH0P"
   },
   "source": [
    "25"
   ]
  },
  {
   "cell_type": "code",
   "execution_count": 23,
   "metadata": {
    "colab": {
     "base_uri": "https://localhost:8080/"
    },
    "executionInfo": {
     "elapsed": 2,
     "status": "ok",
     "timestamp": 1717004189585,
     "user": {
      "displayName": "Priya Verma",
      "userId": "06987125035340060556"
     },
     "user_tz": -330
    },
    "id": "p4valnPmbGs3",
    "outputId": "f14bdb0a-6b2e-41b9-bf2f-d323891b858b"
   },
   "outputs": [
    {
     "name": "stdout",
     "output_type": "stream",
     "text": [
      "Extracted tuple: (3, 4, 5)\n"
     ]
    }
   ],
   "source": [
    "def extract_elements_from_tuple(original_tuple, start_index, end_index):\n",
    "  return tuple(original_tuple[start_index:end_index])\n",
    "\n",
    "original_tuple = (1, 2, 3, 4, 5, 6, 7)\n",
    "start_index = 2\n",
    "end_index = 5\n",
    "extracted_tuple = extract_elements_from_tuple(original_tuple, start_index, end_index)\n",
    "print(\"Extracted tuple:\", extracted_tuple)\n",
    "\n"
   ]
  },
  {
   "cell_type": "markdown",
   "metadata": {
    "id": "3BE34zvkbMCo"
   },
   "source": [
    "26\n"
   ]
  },
  {
   "cell_type": "code",
   "execution_count": 24,
   "metadata": {
    "colab": {
     "base_uri": "https://localhost:8080/"
    },
    "executionInfo": {
     "elapsed": 4,
     "status": "ok",
     "timestamp": 1717004213358,
     "user": {
      "displayName": "Priya Verma",
      "userId": "06987125035340060556"
     },
     "user_tz": -330
    },
    "id": "aW3QQ5xWbLlJ",
    "outputId": "ca654f86-5850-4ffb-9097-85f8021ceed1"
   },
   "outputs": [
    {
     "name": "stdout",
     "output_type": "stream",
     "text": [
      "Union of character sets: {'e', 'c', 'b', 'a', 'd'}\n"
     ]
    }
   ],
   "source": [
    "def union_of_character_sets(set1, set2):\n",
    "  return set1 | set2\n",
    "\n",
    "set1 = {'a', 'b', 'c'}\n",
    "set2 = {'c', 'd', 'e'}\n",
    "union_set = union_of_character_sets(set1, set2)\n",
    "print(\"Union of character sets:\", union_set)\n",
    "\n"
   ]
  },
  {
   "cell_type": "code",
   "execution_count": null,
   "metadata": {
    "id": "boYIJXCpbRYz"
   },
   "outputs": [],
   "source": []
  },
  {
   "cell_type": "markdown",
   "metadata": {
    "id": "D6Rz6sxubSi-"
   },
   "source": [
    "27\n"
   ]
  },
  {
   "cell_type": "code",
   "execution_count": 25,
   "metadata": {
    "colab": {
     "base_uri": "https://localhost:8080/"
    },
    "executionInfo": {
     "elapsed": 2,
     "status": "ok",
     "timestamp": 1717004237799,
     "user": {
      "displayName": "Priya Verma",
      "userId": "06987125035340060556"
     },
     "user_tz": -330
    },
    "id": "Hw1KZ-VDbTdo",
    "outputId": "71a00714-df70-4f66-eb00-bcbf86465a2b"
   },
   "outputs": [
    {
     "name": "stdout",
     "output_type": "stream",
     "text": [
      "Maximum value: 30\n",
      "Minimum value: 5\n"
     ]
    }
   ],
   "source": [
    "def find_max_min_from_tuple(tuple_of_integers):\n",
    "  return max(tuple_of_integers), min(tuple_of_integers)\n",
    "\n",
    "tuple_of_integers = (10, 5, 20, 15, 30)\n",
    "max_value, min_value = find_max_min_from_tuple(tuple_of_integers)\n",
    "print(\"Maximum value:\", max_value)\n",
    "print(\"Minimum value:\", min_value)\n",
    "\n"
   ]
  },
  {
   "cell_type": "code",
   "execution_count": null,
   "metadata": {
    "id": "VIE6QGFbbXdT"
   },
   "outputs": [],
   "source": []
  },
  {
   "cell_type": "markdown",
   "metadata": {
    "id": "a8AUptAObZF4"
   },
   "source": [
    "28"
   ]
  },
  {
   "cell_type": "code",
   "execution_count": 26,
   "metadata": {
    "colab": {
     "base_uri": "https://localhost:8080/"
    },
    "executionInfo": {
     "elapsed": 2,
     "status": "ok",
     "timestamp": 1717004258806,
     "user": {
      "displayName": "Priya Verma",
      "userId": "06987125035340060556"
     },
     "user_tz": -330
    },
    "id": "NwUOUGKsbaBw",
    "outputId": "c8d58d94-d2af-4a84-9ce9-498f7fbc08d1"
   },
   "outputs": [
    {
     "name": "stdout",
     "output_type": "stream",
     "text": [
      "Union: {1, 2, 3, 4, 5, 6, 7}\n",
      "Intersection: {3, 4, 5}\n",
      "Difference: {1, 2}\n"
     ]
    }
   ],
   "source": [
    "def set_operations(set1, set2):\n",
    "  union_set = set1 | set2\n",
    "  intersection_set = set1 & set2\n",
    "  difference_set = set1 - set2\n",
    "  return union_set, intersection_set, difference_set\n",
    "\n",
    "set1 = {1, 2, 3, 4, 5}\n",
    "set2 = {3, 4, 5, 6, 7}\n",
    "union_set, intersection_set, difference_set = set_operations(set1, set2)\n",
    "print(\"Union:\", union_set)\n",
    "print(\"Intersection:\", intersection_set)\n",
    "print(\"Difference:\", difference_set)\n",
    "\n"
   ]
  },
  {
   "cell_type": "code",
   "execution_count": null,
   "metadata": {
    "id": "9YlX9N3Abclb"
   },
   "outputs": [],
   "source": []
  },
  {
   "cell_type": "markdown",
   "metadata": {
    "id": "w77zZ9xKbeN4"
   },
   "source": [
    "29"
   ]
  },
  {
   "cell_type": "code",
   "execution_count": 27,
   "metadata": {
    "colab": {
     "base_uri": "https://localhost:8080/"
    },
    "executionInfo": {
     "elapsed": 3,
     "status": "ok",
     "timestamp": 1717004284043,
     "user": {
      "displayName": "Priya Verma",
      "userId": "06987125035340060556"
     },
     "user_tz": -330
    },
    "id": "wgs6J8Hibe-Y",
    "outputId": "2b867053-87ac-4996-a904-f55bfaae1852"
   },
   "outputs": [
    {
     "name": "stdout",
     "output_type": "stream",
     "text": [
      "Count of occurrences: 3\n"
     ]
    }
   ],
   "source": [
    "def count_element_occurrences(tuple_input, element):\n",
    "  return tuple_input.count(element)\n",
    "\n",
    "tuple_input = (1, 2, 3, 2, 4, 2, 5)\n",
    "element = 2\n",
    "count = count_element_occurrences(tuple_input, element)\n",
    "print(\"Count of occurrences:\", count)\n",
    "\n"
   ]
  },
  {
   "cell_type": "markdown",
   "metadata": {
    "id": "JJaL6T-sbkgU"
   },
   "source": [
    "30"
   ]
  },
  {
   "cell_type": "code",
   "execution_count": 28,
   "metadata": {
    "colab": {
     "base_uri": "https://localhost:8080/"
    },
    "executionInfo": {
     "elapsed": 4,
     "status": "ok",
     "timestamp": 1717004307123,
     "user": {
      "displayName": "Priya Verma",
      "userId": "06987125035340060556"
     },
     "user_tz": -330
    },
    "id": "Tr9io3m3bivn",
    "outputId": "b2944383-3b3a-4ed2-bad0-73a14cb8365d"
   },
   "outputs": [
    {
     "name": "stdout",
     "output_type": "stream",
     "text": [
      "Symmetric difference: {'cherry', 'orange', 'apple', 'grape'}\n"
     ]
    }
   ],
   "source": [
    "def symmetric_difference_of_strings(set1, set2):\n",
    "  return set1 ^ set2\n",
    "\n",
    "set1 = {'apple', 'banana', 'cherry'}\n",
    "set2 = {'banana', 'orange', 'grape'}\n",
    "symmetric_difference_set = symmetric_difference_of_strings(set1, set2)\n",
    "print(\"Symmetric difference:\", symmetric_difference_set)\n",
    "\n"
   ]
  },
  {
   "cell_type": "markdown",
   "metadata": {
    "id": "Z9BjF2bNbo-9"
   },
   "source": [
    "31"
   ]
  },
  {
   "cell_type": "code",
   "execution_count": 29,
   "metadata": {
    "colab": {
     "base_uri": "https://localhost:8080/"
    },
    "executionInfo": {
     "elapsed": 7,
     "status": "ok",
     "timestamp": 1717004331729,
     "user": {
      "displayName": "Priya Verma",
      "userId": "06987125035340060556"
     },
     "user_tz": -330
    },
    "id": "zqtX8wF4bsD7",
    "outputId": "6370ae79-175b-442c-ed2a-4c93a3b9226f"
   },
   "outputs": [
    {
     "name": "stdout",
     "output_type": "stream",
     "text": [
      "Word frequencies: {'apple': 3, 'banana': 2, 'cherry': 1}\n"
     ]
    }
   ],
   "source": [
    "def word_frequencies(words):\n",
    "  frequencies = {}\n",
    "  for word in words:\n",
    "    if word in frequencies:\n",
    "      frequencies[word] += 1\n",
    "    else:\n",
    "      frequencies[word] = 1\n",
    "  return frequencies\n",
    "\n",
    "words = ['apple', 'banana', 'apple', 'cherry', 'banana', 'apple']\n",
    "word_frequency_dict = word_frequencies(words)\n",
    "print(\"Word frequencies:\", word_frequency_dict)\n",
    "\n"
   ]
  },
  {
   "cell_type": "code",
   "execution_count": null,
   "metadata": {
    "id": "bYIn1hdEbuUc"
   },
   "outputs": [],
   "source": []
  },
  {
   "cell_type": "markdown",
   "metadata": {
    "id": "CtcQg9GSbwqB"
   },
   "source": [
    "32"
   ]
  },
  {
   "cell_type": "code",
   "execution_count": 30,
   "metadata": {
    "colab": {
     "base_uri": "https://localhost:8080/"
    },
    "executionInfo": {
     "elapsed": 3,
     "status": "ok",
     "timestamp": 1717004368678,
     "user": {
      "displayName": "Priya Verma",
      "userId": "06987125035340060556"
     },
     "user_tz": -330
    },
    "id": "wDLH-GwtbxRK",
    "outputId": "6520e99a-61eb-415c-8701-deb8ab548f6a"
   },
   "outputs": [
    {
     "name": "stdout",
     "output_type": "stream",
     "text": [
      "Merged dictionary: {'apple': 1, 'banana': 6, 'cherry': 3, 'orange': 5, 'grape': 6}\n"
     ]
    }
   ],
   "source": [
    "def merge_dictionaries(dict1, dict2):\n",
    "  merged_dict = dict1.copy()\n",
    "  for key, value in dict2.items():\n",
    "    if key in merged_dict:\n",
    "      merged_dict[key] += value\n",
    "    else:\n",
    "      merged_dict[key] = value\n",
    "  return merged_dict\n",
    "\n",
    "dict1 = {'apple': 1, 'banana': 2, 'cherry': 3}\n",
    "dict2 = {'banana': 4, 'orange': 5, 'grape': 6}\n",
    "merged_dict = merge_dictionaries(dict1, dict2)\n",
    "print(\"Merged dictionary:\", merged_dict)\n",
    "\n"
   ]
  },
  {
   "cell_type": "markdown",
   "metadata": {
    "id": "qtJ79NSwb4qS"
   },
   "source": [
    "33"
   ]
  },
  {
   "cell_type": "code",
   "execution_count": 31,
   "metadata": {
    "colab": {
     "base_uri": "https://localhost:8080/"
    },
    "executionInfo": {
     "elapsed": 3,
     "status": "ok",
     "timestamp": 1717004408804,
     "user": {
      "displayName": "Priya Verma",
      "userId": "06987125035340060556"
     },
     "user_tz": -330
    },
    "id": "ZRqRW293b3VW",
    "outputId": "5d7d6f93-5e7a-40ee-92f3-fcd8aeecb9aa"
   },
   "outputs": [
    {
     "name": "stdout",
     "output_type": "stream",
     "text": [
      "Value for keys1: 1\n",
      "Value for keys2: 4\n",
      "Value for keys3: None\n"
     ]
    }
   ],
   "source": [
    "def access_nested_dictionary(nested_dict, keys):\n",
    "  value = nested_dict\n",
    "  for key in keys:\n",
    "    if key in value:\n",
    "      value = value[key]\n",
    "    else:\n",
    "      return None\n",
    "  return value\n",
    "\n",
    "nested_dict = {'fruits': {'apple': 1, 'banana': 2}, 'vegetables': {'carrot': 3, 'potato': 4}}\n",
    "keys1 = ['fruits', 'apple']\n",
    "keys2 = ['vegetables', 'potato']\n",
    "keys3 = ['fruits', 'orange']\n",
    "\n",
    "value1 = access_nested_dictionary(nested_dict, keys1)\n",
    "value2 = access_nested_dictionary(nested_dict, keys2)\n",
    "value3 = access_nested_dictionary(nested_dict, keys3)\n",
    "print(\"Value for keys1:\", value1)\n",
    "print(\"Value for keys2:\", value2)\n",
    "print(\"Value for keys3:\", value3)\n",
    "\n"
   ]
  },
  {
   "cell_type": "markdown",
   "metadata": {
    "id": "ffoLWFqkcEBJ"
   },
   "source": [
    "34"
   ]
  },
  {
   "cell_type": "code",
   "execution_count": 32,
   "metadata": {
    "colab": {
     "base_uri": "https://localhost:8080/"
    },
    "executionInfo": {
     "elapsed": 500,
     "status": "ok",
     "timestamp": 1717004441471,
     "user": {
      "displayName": "Priya Verma",
      "userId": "06987125035340060556"
     },
     "user_tz": -330
    },
    "id": "lNd0WMjGcBN1",
    "outputId": "9957c92f-682c-4a1d-c7f3-bd258084d16f"
   },
   "outputs": [
    {
     "name": "stdout",
     "output_type": "stream",
     "text": [
      "Sorted dictionary: {'orange': 1, 'banana': 2, 'apple': 3}\n"
     ]
    }
   ],
   "source": [
    "def sort_dictionary_by_values(dictionary, ascending=True):\n",
    "  sorted_items = sorted(dictionary.items(), key=lambda item: item[1])\n",
    "  if not ascending:\n",
    "    sorted_items.reverse()\n",
    "  return dict(sorted_items)\n",
    "\n",
    "dictionary = {'banana': 2, 'apple': 3, 'orange': 1}\n",
    "sorted_dict = sort_dictionary_by_values(dictionary)\n",
    "print(\"Sorted dictionary:\", sorted_dict)\n",
    "\n"
   ]
  },
  {
   "cell_type": "markdown",
   "metadata": {
    "id": "5u6sfR45cKvW"
   },
   "source": [
    "35"
   ]
  },
  {
   "cell_type": "code",
   "execution_count": 33,
   "metadata": {
    "colab": {
     "base_uri": "https://localhost:8080/"
    },
    "executionInfo": {
     "elapsed": 4,
     "status": "ok",
     "timestamp": 1717004458272,
     "user": {
      "displayName": "Priya Verma",
      "userId": "06987125035340060556"
     },
     "user_tz": -330
    },
    "id": "ugzusauZcJDi",
    "outputId": "fe301ce1-3b18-4960-84ee-86aceb479188"
   },
   "outputs": [
    {
     "name": "stdout",
     "output_type": "stream",
     "text": [
      "Common elements: [4, 5]\n"
     ]
    }
   ],
   "source": [
    "def find_common_elements(list1, list2):\n",
    "  return [element for element in list1 if element in list2]\n",
    "\n",
    "list1 = [1, 2, 3, 4, 5]\n",
    "list2 = [4, 5, 6, 7, 8]\n",
    "common_elements = find_common_elements(list1, list2)\n",
    "print(\"Common elements:\", common_elements)\n",
    "\n"
   ]
  },
  {
   "cell_type": "code",
   "execution_count": null,
   "metadata": {
    "id": "q-5W0kTPcNL6"
   },
   "outputs": [],
   "source": []
  }
 ],
 "metadata": {
  "colab": {
   "authorship_tag": "ABX9TyMpoE8RRnaiF+Z/gRjZFk5x",
   "mount_file_id": "1wz28GHr-12qjxle7SGv-t4yOtLG0_RWc",
   "provenance": []
  },
  "kernelspec": {
   "display_name": "Python 3 (ipykernel)",
   "language": "python",
   "name": "python3"
  },
  "language_info": {
   "codemirror_mode": {
    "name": "ipython",
    "version": 3
   },
   "file_extension": ".py",
   "mimetype": "text/x-python",
   "name": "python",
   "nbconvert_exporter": "python",
   "pygments_lexer": "ipython3",
   "version": "3.10.8"
  }
 },
 "nbformat": 4,
 "nbformat_minor": 4
}
